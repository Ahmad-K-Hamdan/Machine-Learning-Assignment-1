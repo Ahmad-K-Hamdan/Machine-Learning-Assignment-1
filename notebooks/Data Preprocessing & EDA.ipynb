{
 "cells": [
  {
   "cell_type": "markdown",
   "id": "dffbad8a",
   "metadata": {},
   "source": [
    "# ENCS5341 - Machine Learning  \n",
    "## Assignment 1: Data Preprocessing & Exploratory Data Analysis (EDA)"
   ]
  },
  {
   "cell_type": "markdown",
   "id": "f7221181",
   "metadata": {},
   "source": [
    "## Environment Setup"
   ]
  },
  {
   "cell_type": "code",
   "execution_count": null,
   "id": "8fc6de3c",
   "metadata": {},
   "outputs": [],
   "source": [
    "!python -m venv .venv\n",
    "# and then .venv\\Scripts\\activate in the terminal"
   ]
  },
  {
   "cell_type": "markdown",
   "id": "9368518c",
   "metadata": {},
   "source": [
    "## Install all required packages"
   ]
  },
  {
   "cell_type": "code",
   "execution_count": null,
   "id": "02788236",
   "metadata": {},
   "outputs": [],
   "source": [
    "!pip install numpy pandas matplotlib seaborn scikit-learn"
   ]
  },
  {
   "cell_type": "markdown",
   "id": "4d5f3f64",
   "metadata": {},
   "source": [
    "## Import packages"
   ]
  },
  {
   "cell_type": "code",
   "execution_count": null,
   "id": "53a5af48",
   "metadata": {},
   "outputs": [],
   "source": [
    "import numpy as np\n",
    "import pandas as pd\n",
    "import matplotlib.pyplot as plt\n",
    "import seaborn as sns\n",
    "from scipy import stats\n",
    "from sklearn.preprocessing import StandardScaler, MinMaxScaler"
   ]
  },
  {
   "cell_type": "markdown",
   "id": "27957c25",
   "metadata": {},
   "source": [
    "## Step 1: Data Loading and Initial Inspection:"
   ]
  },
  {
   "cell_type": "markdown",
   "id": "7acc58d2",
   "metadata": {},
   "source": [
    "### Loading the data"
   ]
  },
  {
   "cell_type": "code",
   "execution_count": null,
   "id": "ea790f49",
   "metadata": {},
   "outputs": [],
   "source": [
    "data = pd.read_csv(\"../data/Customer_Data.csv\")"
   ]
  },
  {
   "cell_type": "markdown",
   "id": "bb7388a1",
   "metadata": {},
   "source": [
    "### Inspecting first few rows"
   ]
  },
  {
   "cell_type": "code",
   "execution_count": null,
   "id": "36a3da5f",
   "metadata": {},
   "outputs": [],
   "source": [
    "data.head()"
   ]
  },
  {
   "cell_type": "markdown",
   "id": "59b5d106",
   "metadata": {},
   "source": [
    "### Checking general information"
   ]
  },
  {
   "cell_type": "code",
   "execution_count": null,
   "id": "83c576c1",
   "metadata": {},
   "outputs": [],
   "source": [
    "data.info()"
   ]
  },
  {
   "cell_type": "markdown",
   "id": "d7b0dbe8",
   "metadata": {},
   "source": [
    "### Summary statistics"
   ]
  },
  {
   "cell_type": "code",
   "execution_count": null,
   "id": "ca18cc8b",
   "metadata": {},
   "outputs": [],
   "source": [
    "data.describe()"
   ]
  },
  {
   "cell_type": "markdown",
   "id": "a9aee082",
   "metadata": {},
   "source": [
    "## Step 2: Handling Missing Data"
   ]
  },
  {
   "cell_type": "markdown",
   "id": "a04dcbb6",
   "metadata": {},
   "source": [
    "### Number of null values in each column"
   ]
  },
  {
   "cell_type": "code",
   "execution_count": null,
   "id": "4ca39794",
   "metadata": {},
   "outputs": [],
   "source": [
    "data.isnull().sum()"
   ]
  },
  {
   "cell_type": "markdown",
   "id": "a620247a",
   "metadata": {},
   "source": [
    "### Handling missing values for Age\n",
    "\n",
    "We did not think using the overall mean for the age is ideal, so we decided to fill missing values using the mean for each gender group separately."
   ]
  },
  {
   "cell_type": "code",
   "execution_count": null,
   "id": "cc39f673",
   "metadata": {},
   "outputs": [],
   "source": [
    "meanAgeFemale = data[data[\"Gender\"] == 1][\"Age\"].mean()\n",
    "meanAgeMale = data[data[\"Gender\"] == 0][\"Age\"].mean()\n",
    "\n",
    "data.loc[data[\"Gender\"] == 1, \"Age\"] = data.loc[data[\"Gender\"] == 1, \"Age\"].fillna(meanAgeFemale)\n",
    "data.loc[data[\"Gender\"] == 0, \"Age\"] = data.loc[data[\"Gender\"] == 0, \"Age\"].fillna(meanAgeMale)"
   ]
  },
  {
   "cell_type": "markdown",
   "id": "5f9a5cc7",
   "metadata": {},
   "source": [
    "### Handling missing values for SupportCalls\n",
    "We noticed that the minimum value for SupportCalls is 1, so we assumed that if the value is null it means that no calls were made therefor fill it with zero."
   ]
  },
  {
   "cell_type": "code",
   "execution_count": null,
   "id": "488aa9a2",
   "metadata": {},
   "outputs": [],
   "source": [
    "data[\"SupportCalls\"] = data[\"SupportCalls\"].fillna(0)"
   ]
  },
  {
   "cell_type": "markdown",
   "id": "8ee82509",
   "metadata": {},
   "source": [
    "### Handling missing values for Income \n",
    "Filling the missing income values with the median is not sufficient.\n",
    "\n",
    "So we grouped customers in bins based on their age range and filled the null income values with the median income of each group"
   ]
  },
  {
   "cell_type": "code",
   "execution_count": null,
   "id": "daa7f976",
   "metadata": {},
   "outputs": [],
   "source": [
    "bins = [10, 20, 30, 40, 50, 60, 70]\n",
    "labels = [\"10-19\", \"20-29\", \"30-39\", \"40-49\", \"50-59\", \"60-69\"]\n",
    "data[\"GroupByAge\"] = pd.cut(data[\"Age\"], bins=bins, labels=labels, right=False)\n",
    "\n",
    "medianPerGroup = data.groupby(\"GroupByAge\")[\"Income\"].median()\n",
    "\n",
    "for group in medianPerGroup.index:\n",
    "    data.loc[(data[\"GroupByAge\"] == group) & (data[\"Income\"].isnull()), \"Income\"] = medianPerGroup[group]\n",
    "\n",
    "data.drop(\"GroupByAge\", axis=1, inplace=True)"
   ]
  },
  {
   "cell_type": "markdown",
   "id": "5e442399",
   "metadata": {},
   "source": [
    "### Handling missing values for Tenure\n",
    "We filled the missing values based on Churn status and predefined group ratios"
   ]
  },
  {
   "cell_type": "markdown",
   "id": "c8573256",
   "metadata": {},
   "source": [
    "When grouping the data by tenure, we notice two things:\n",
    "\n",
    "        1. All people who churn have been with the company for less than two years\n",
    "        2. People who don't churn are split among the three groups, we will fill the missing data according to the existing ratio:\n",
    "            0-2 -> 0.175\n",
    "            3-5 -> 0.35\n",
    "            6-9 -> 0.475"
   ]
  },
  {
   "cell_type": "code",
   "execution_count": null,
   "id": "548bddc4",
   "metadata": {},
   "outputs": [],
   "source": [
    "bins = [0, 3, 6, 10]\n",
    "labels = ['0-2', '3-5', '6-9']\n",
    "\n",
    "data['TenureGroup'] = pd.cut(data['Tenure'], bins=bins, labels=labels, right=False)\n",
    "table = pd.crosstab(data['TenureGroup'], data['ChurnStatus'])\n",
    "data.drop(\"TenureGroup\", axis=1, inplace=True)\n",
    "table"
   ]
  },
  {
   "cell_type": "markdown",
   "id": "10456c28",
   "metadata": {},
   "source": [
    "Using the ratios generated below, we can apply the same ratio to the missing values"
   ]
  },
  {
   "cell_type": "code",
   "execution_count": null,
   "id": "ac0c9c84",
   "metadata": {},
   "outputs": [],
   "source": [
    "tenureGroupData = pd.cut(data[(data['ChurnStatus'] == 0) & (data['Tenure'].notnull())]['Tenure'], bins=bins, labels=labels, right=False)\n",
    "ratios = tenureGroupData.value_counts(normalize=True)\n",
    "ratios"
   ]
  },
  {
   "cell_type": "code",
   "execution_count": null,
   "id": "23bbf070",
   "metadata": {},
   "outputs": [],
   "source": [
    "for i in data.index:\n",
    "    if pd.isnull(data.loc[i, \"Tenure\"]):\n",
    "        if data.loc[i, \"ChurnStatus\"] == 1:\n",
    "            data.loc[i, \"Tenure\"] = np.random.uniform(0, 2)\n",
    "        else:\n",
    "            r = np.random.rand()\n",
    "            if r < 0.175:\n",
    "                data.loc[i, \"Tenure\"] = np.random.uniform(0, 2)\n",
    "            elif r < 0.525:\n",
    "                data.loc[i, \"Tenure\"] = np.random.uniform(3, 5)\n",
    "            else:\n",
    "                data.loc[i, \"Tenure\"] = np.random.uniform(6, 9)"
   ]
  },
  {
   "cell_type": "markdown",
   "id": "1e9c0147",
   "metadata": {},
   "source": [
    "### Number of null values in each column after solving missing values"
   ]
  },
  {
   "cell_type": "code",
   "execution_count": null,
   "id": "051b1722",
   "metadata": {},
   "outputs": [],
   "source": [
    "data.isnull().sum()"
   ]
  },
  {
   "cell_type": "markdown",
   "id": "f18d5159",
   "metadata": {},
   "source": [
    "## Step 3: Handling Outliers"
   ]
  },
  {
   "cell_type": "markdown",
   "id": "c3be30ae",
   "metadata": {},
   "source": [
    "The following two box plots highlight the presence of outliers in both features Income and SupportCalls."
   ]
  },
  {
   "cell_type": "code",
   "execution_count": null,
   "id": "e442a27c",
   "metadata": {},
   "outputs": [],
   "source": [
    "fig, axs = plt.subplots(figsize=(9, 3), ncols=2)\n",
    "sns.boxplot(data=data, y=\"Income\", ax=axs[0])\n",
    "plt.title(\"Box Plot of Income\")\n",
    "\n",
    "sns.boxplot(data=data, y=\"SupportCalls\", ax=axs[1])\n",
    "plt.title(\"Box Plot of SupportCalls\")"
   ]
  },
  {
   "cell_type": "markdown",
   "id": "989bc35e",
   "metadata": {},
   "source": [
    "! Add caption here"
   ]
  },
  {
   "cell_type": "code",
   "execution_count": null,
   "id": "1655f5a4",
   "metadata": {},
   "outputs": [],
   "source": [
    "z_scores = np.abs(stats.zscore(data[\"Income\"]))\n",
    "threshold = 3\n",
    "\n",
    "outliers = data[z_scores > threshold]\n",
    "\n",
    "print(f\"Number of outliers in 'Income': {len(outliers)}\")\n",
    "outliers"
   ]
  },
  {
   "cell_type": "markdown",
   "id": "c644f6e9",
   "metadata": {},
   "source": [
    "## Step 4: Feature Scaling"
   ]
  },
  {
   "cell_type": "markdown",
   "id": "0ba27909",
   "metadata": {},
   "source": [
    "### First, normalize ... numerical features (income) by standardization.\n",
    "\n",
    "Z-Score scaling is used in this case since the features are ..."
   ]
  },
  {
   "cell_type": "code",
   "execution_count": null,
   "id": "66fef83c",
   "metadata": {},
   "outputs": [],
   "source": [
    "standardScale = [\"Age\", \"Income\"]        \n",
    "scaler = StandardScaler()\n",
    "data[standardScale] = scaler.fit_transform(data[standardScale])\n",
    "data"
   ]
  },
  {
   "cell_type": "markdown",
   "id": "362fe0ae",
   "metadata": {},
   "source": [
    "### Second, normalize ... numerical features () by Min-Max\n",
    "\n",
    "Min-Max scaling is used in this case since the features are ..."
   ]
  },
  {
   "cell_type": "code",
   "execution_count": null,
   "id": "fc865179",
   "metadata": {},
   "outputs": [],
   "source": [
    "minMaxScale = [\"Tenure\", \"SupportCalls\"]  \n",
    "scaler = MinMaxScaler()\n",
    "data[minMaxScale] = scaler.fit_transform(data[minMaxScale])\n",
    "data"
   ]
  },
  {
   "cell_type": "markdown",
   "id": "247c1e10",
   "metadata": {},
   "source": [
    "## Step 5: Exploratory Data Analysis"
   ]
  },
  {
   "cell_type": "markdown",
   "id": "fdb00f8e",
   "metadata": {},
   "source": [
    "### • Univariate Analysis"
   ]
  },
  {
   "cell_type": "markdown",
   "id": "8e55fec3",
   "metadata": {},
   "source": [
    "The following plots are histograms and box plots for all numerical features.\n",
    "\n",
    "The left column represents the data distribution across different bins.\n",
    "\n",
    "The right column represents the spread as well as any outliers.\n",
    "\n",
    "We can make the following remarks based on the plots:\n",
    "\n",
    "1. For age: the customers are spread uniformly across age distributions with no outliers.\n",
    "2. For income: there are outliers which are ruining the distribution by forcing the histogram plot to zoom out.\n",
    "3. For tenure: an equal spread across all possible years with no outliers.\n",
    "4. For support calls: the same thing as the income. The outliers have ruined the plot."
   ]
  },
  {
   "cell_type": "code",
   "execution_count": null,
   "id": "056c2081",
   "metadata": {},
   "outputs": [],
   "source": [
    "fig, axs = plt.subplots(figsize=(22, 16), ncols=2, nrows=4)\n",
    "sns.histplot(data=data, x=\"Age\", ax=axs[0][0], bins=10)\n",
    "sns.boxplot(data=data, y=\"Age\",ax=axs[0][1])\n",
    "\n",
    "sns.histplot(data=data, x=\"Income\", ax=axs[1][0], bins=10)\n",
    "sns.boxplot(data=data, y=\"Income\",ax=axs[1][1])\n",
    "\n",
    "sns.histplot(data=data, x=\"Tenure\", ax=axs[2][0], bins=10)\n",
    "sns.boxplot(data=data, y=\"Tenure\",ax=axs[2][1])\n",
    "\n",
    "sns.histplot(data=data, x=\"SupportCalls\", ax=axs[3][0], bins=10)\n",
    "sns.boxplot(data=data, y=\"SupportCalls\",ax=axs[3][1])"
   ]
  },
  {
   "cell_type": "markdown",
   "id": "346b4eb4",
   "metadata": {},
   "source": [
    "The following plot shows the distribution of age values separated by gender.\n",
    "\n",
    "The overlapping bars show how both genders are spread across the age ranges, the colored tips represent which gender occurs more in that age range."
   ]
  },
  {
   "cell_type": "code",
   "execution_count": null,
   "id": "f2a1d2c3",
   "metadata": {},
   "outputs": [],
   "source": [
    "sns.histplot(data=data, x=\"Age\", hue=\"Gender\", bins=10)"
   ]
  },
  {
   "cell_type": "markdown",
   "id": "68c01a12",
   "metadata": {},
   "source": [
    "The following bar plots visualize the distribution for all categorical values.\n",
    "\n",
    "We can make the following remarks based on the plots:\n",
    "\n",
    "1. For gender: the data is very balanced meaning there is no bias in the distribution.\n",
    "2. For churn status: the data is not balanced as barely any customers churn compared to the customers who stay.\n",
    "2. For product type: almost half of the customers go for the premium product rather than the basic. "
   ]
  },
  {
   "cell_type": "code",
   "execution_count": null,
   "id": "fe5afd7e",
   "metadata": {},
   "outputs": [],
   "source": [
    "fig, axs = plt.subplots(figsize=(16, 4), ncols=3)\n",
    "sns.countplot(data=data, x=\"Gender\", ax=axs[0])\n",
    "sns.countplot(data=data, x=\"ChurnStatus\", ax=axs[1])\n",
    "sns.countplot(data=data, x=\"ProductType\", ax=axs[2])"
   ]
  },
  {
   "cell_type": "markdown",
   "id": "5dd84efe",
   "metadata": {},
   "source": [
    "### • Bivariate Analysis"
   ]
  },
  {
   "cell_type": "markdown",
   "id": "6a6dd2e3",
   "metadata": {},
   "source": [
    "The following scatter plot shows the relationship between Age and Income and the points are colored by ChurnStatus.\n",
    "\n",
    "After removing the outliers in the income, the relationship between the Income and ChurnStatus becomes clear as no customer with an income higher than 50k has churned across all ages."
   ]
  },
  {
   "cell_type": "code",
   "execution_count": null,
   "id": "59e27cba",
   "metadata": {},
   "outputs": [],
   "source": [
    "sns.scatterplot(x=\"Age\", y='Income', hue='ChurnStatus', data=data[data['Income'] < 200000])\n",
    "plt.title(f\"Age vs Income colored by ChurnStatus\")"
   ]
  },
  {
   "cell_type": "markdown",
   "id": "41ca1019",
   "metadata": {},
   "source": [
    "The following plot shows how customers who stayed or churned are distributed across different tenure and income values.\n",
    "\n",
    "The result comes as no surprise as we already learned the relationship between Tenure and Churn as well as the relationship between Tenure and Income, so this plot is a mix of those."
   ]
  },
  {
   "cell_type": "code",
   "execution_count": null,
   "id": "a4be31e6",
   "metadata": {},
   "outputs": [],
   "source": [
    "\n",
    "sns.scatterplot(x=\"Tenure\", y='Income', hue='ChurnStatus', data=data[data['Income'] < 200000])\n",
    "plt.title(f\"Tenure vs Income colored by ChurnStatus\")"
   ]
  },
  {
   "cell_type": "markdown",
   "id": "c3a1dc96",
   "metadata": {},
   "source": [
    "The following plot is an example of a plot that holds no real data or value.\n",
    "\n",
    "The result shows that points are spread randomly with no pattern between customers who stayed or churned."
   ]
  },
  {
   "cell_type": "code",
   "execution_count": null,
   "id": "e5bd9c84",
   "metadata": {},
   "outputs": [],
   "source": [
    "sns.scatterplot(x=\"SupportCalls\", y='Income', hue='ChurnStatus', data=data[(data['Income'] < 200000) & (data['SupportCalls'] < 20)])\n",
    "plt.title(f\"SupportCalls vs Income colored by ChurnStatus\")"
   ]
  },
  {
   "cell_type": "markdown",
   "id": "ea09c418",
   "metadata": {},
   "source": [
    "The following box plots show the relationship between numerical features and ChurnStatus.\n",
    "\n",
    "The plots shows that customers who churn have lower tenure and lower income."
   ]
  },
  {
   "cell_type": "code",
   "execution_count": null,
   "id": "b509c781",
   "metadata": {},
   "outputs": [],
   "source": [
    "fig, axs = plt.subplots(figsize=(24, 4), ncols=4)\n",
    "sns.boxplot(x=\"ChurnStatus\", y=\"Age\", data=data, ax=axs[0])\n",
    "sns.boxplot(x=\"ChurnStatus\", y=\"Income\", data=data[data['Income'] < 200000], ax=axs[1])\n",
    "sns.boxplot(x=\"ChurnStatus\", y=\"Tenure\", data=data, ax=axs[2])\n",
    "sns.boxplot(x=\"ChurnStatus\", y=\"SupportCalls\", data=data[data['SupportCalls'] < 20], ax=axs[3])"
   ]
  },
  {
   "cell_type": "markdown",
   "id": "e2991822",
   "metadata": {},
   "source": [
    "The following count plots show how Gender and ProductType relate to the ChurnStatus.\n",
    "\n",
    "Since the churn ratio appears similar for customers who churned or who leaved in both categories, we can conclude that Gender and ProductType play no part in predicting churn status."
   ]
  },
  {
   "cell_type": "code",
   "execution_count": null,
   "id": "5787e227",
   "metadata": {},
   "outputs": [],
   "source": [
    "fig, axs = plt.subplots(figsize=(12, 4), ncols=2)\n",
    "sns.countplot(x='Gender', hue='ChurnStatus', data=data, ax=axs[0])\n",
    "sns.countplot(x='ProductType', hue='ChurnStatus', data=data, ax=axs[1])"
   ]
  },
  {
   "cell_type": "markdown",
   "id": "c1f4a1d1",
   "metadata": {},
   "source": [
    "### • Correlation Analysis"
   ]
  },
  {
   "cell_type": "markdown",
   "id": "00aa55f2",
   "metadata": {},
   "source": [
    "We can conclude from the following heatmap that the correlation between Tenure and the target is the strongest and we can split the data to two categorizes:\n",
    "\n",
    "1. Customers who have been with the company longer tend to stay.\n",
    "2. New customers are possible to churn.\n",
    "\n",
    "Other features do not affect the target feature as their correlations are close to 0, showing that they have weak affect on churn in this data."
   ]
  },
  {
   "cell_type": "code",
   "execution_count": null,
   "id": "899be890",
   "metadata": {},
   "outputs": [],
   "source": [
    "sns.heatmap(data[['Tenure', 'Age', 'Income', 'SupportCalls', 'ChurnStatus']].corr(), annot=True)\n",
    "plt.title('Correlation Heatmap')"
   ]
  },
  {
   "cell_type": "markdown",
   "id": "27bac248",
   "metadata": {},
   "source": [
    "## **Ending Remarks**\n",
    "\n",
    "- The dataset was successfully cleaned and all missing values were handled.\n",
    "- Outliers were checked for each feature and were detected in *Income* and *SupportCalls*.\n",
    "- **Tenure** has the strongest correlation and affect on whether a customers churns or stays. \n",
    "    - Customers who stay for the first two years, do not churn.\n",
    "- **Income** also has an influence on the likelihood of churning.\n",
    "    - Customers who make more than 50k do not churn.\n",
    "- **Gender**, **ProductType** and **Age** have little effect on churn."
   ]
  }
 ],
 "metadata": {
  "kernelspec": {
   "display_name": ".venv",
   "language": "python",
   "name": "python3"
  },
  "language_info": {
   "codemirror_mode": {
    "name": "ipython",
    "version": 3
   },
   "file_extension": ".py",
   "mimetype": "text/x-python",
   "name": "python",
   "nbconvert_exporter": "python",
   "pygments_lexer": "ipython3",
   "version": "3.13.3"
  }
 },
 "nbformat": 4,
 "nbformat_minor": 5
}
