{
 "cells": [
  {
   "cell_type": "markdown",
   "id": "dffbad8a",
   "metadata": {},
   "source": [
    "# ENCS5341 - Machine Learning  \n",
    "## Assignment 1: Data Preprocessing & Exploratory Data Analysis (EDA)"
   ]
  },
  {
   "cell_type": "markdown",
   "id": "f7221181",
   "metadata": {},
   "source": [
    "## Environment Setup"
   ]
  },
  {
   "cell_type": "code",
   "execution_count": null,
   "id": "8fc6de3c",
   "metadata": {},
   "outputs": [],
   "source": [
    "!python -m venv .venv\n",
    "# and then .venv\\Scripts\\activate in the terminal"
   ]
  },
  {
   "cell_type": "markdown",
   "id": "9368518c",
   "metadata": {},
   "source": [
    "## Install all required packages"
   ]
  },
  {
   "cell_type": "code",
   "execution_count": null,
   "id": "02788236",
   "metadata": {},
   "outputs": [],
   "source": [
    "!pip install numpy pandas matplotlib seaborn"
   ]
  },
  {
   "cell_type": "markdown",
   "id": "4d5f3f64",
   "metadata": {},
   "source": [
    "## Import packages"
   ]
  },
  {
   "cell_type": "code",
   "execution_count": 1,
   "id": "53a5af48",
   "metadata": {},
   "outputs": [],
   "source": [
    "import numpy as np\n",
    "import pandas as pd\n",
    "import matplotlib.pyplot as plt\n",
    "import seaborn as sns"
   ]
  },
  {
   "cell_type": "markdown",
   "id": "27957c25",
   "metadata": {},
   "source": [
    "## Step 1: Data Loading and Initial Inspection:"
   ]
  },
  {
   "cell_type": "markdown",
   "id": "7acc58d2",
   "metadata": {},
   "source": [
    "### Loading the data"
   ]
  },
  {
   "cell_type": "code",
   "execution_count": 2,
   "id": "ea790f49",
   "metadata": {},
   "outputs": [],
   "source": [
    "data = pd.read_csv(\"../data/Customer_Data.csv\")"
   ]
  },
  {
   "cell_type": "markdown",
   "id": "bb7388a1",
   "metadata": {},
   "source": [
    "### Inspecting first few rows"
   ]
  },
  {
   "cell_type": "code",
   "execution_count": 3,
   "id": "36a3da5f",
   "metadata": {},
   "outputs": [
    {
     "data": {
      "text/html": [
       "<div>\n",
       "<style scoped>\n",
       "    .dataframe tbody tr th:only-of-type {\n",
       "        vertical-align: middle;\n",
       "    }\n",
       "\n",
       "    .dataframe tbody tr th {\n",
       "        vertical-align: top;\n",
       "    }\n",
       "\n",
       "    .dataframe thead th {\n",
       "        text-align: right;\n",
       "    }\n",
       "</style>\n",
       "<table border=\"1\" class=\"dataframe\">\n",
       "  <thead>\n",
       "    <tr style=\"text-align: right;\">\n",
       "      <th></th>\n",
       "      <th>CustomerID</th>\n",
       "      <th>Age</th>\n",
       "      <th>Gender</th>\n",
       "      <th>Income</th>\n",
       "      <th>Tenure</th>\n",
       "      <th>ProductType</th>\n",
       "      <th>SupportCalls</th>\n",
       "      <th>ChurnStatus</th>\n",
       "    </tr>\n",
       "  </thead>\n",
       "  <tbody>\n",
       "    <tr>\n",
       "      <th>0</th>\n",
       "      <td>CUST0000</td>\n",
       "      <td>59.0</td>\n",
       "      <td>0</td>\n",
       "      <td>151203.0</td>\n",
       "      <td>4.0</td>\n",
       "      <td>0</td>\n",
       "      <td>1.0</td>\n",
       "      <td>0</td>\n",
       "    </tr>\n",
       "    <tr>\n",
       "      <th>1</th>\n",
       "      <td>CUST0001</td>\n",
       "      <td>69.0</td>\n",
       "      <td>0</td>\n",
       "      <td>58332.0</td>\n",
       "      <td>6.0</td>\n",
       "      <td>1</td>\n",
       "      <td>9.0</td>\n",
       "      <td>0</td>\n",
       "    </tr>\n",
       "    <tr>\n",
       "      <th>2</th>\n",
       "      <td>CUST0002</td>\n",
       "      <td>46.0</td>\n",
       "      <td>1</td>\n",
       "      <td>149481.0</td>\n",
       "      <td>2.0</td>\n",
       "      <td>0</td>\n",
       "      <td>12.0</td>\n",
       "      <td>0</td>\n",
       "    </tr>\n",
       "    <tr>\n",
       "      <th>3</th>\n",
       "      <td>CUST0003</td>\n",
       "      <td>32.0</td>\n",
       "      <td>1</td>\n",
       "      <td>115937.0</td>\n",
       "      <td>1.0</td>\n",
       "      <td>1</td>\n",
       "      <td>13.0</td>\n",
       "      <td>0</td>\n",
       "    </tr>\n",
       "    <tr>\n",
       "      <th>4</th>\n",
       "      <td>CUST0004</td>\n",
       "      <td>60.0</td>\n",
       "      <td>0</td>\n",
       "      <td>103929.0</td>\n",
       "      <td>4.0</td>\n",
       "      <td>1</td>\n",
       "      <td>5.0</td>\n",
       "      <td>0</td>\n",
       "    </tr>\n",
       "  </tbody>\n",
       "</table>\n",
       "</div>"
      ],
      "text/plain": [
       "  CustomerID   Age  Gender    Income  Tenure  ProductType  SupportCalls  \\\n",
       "0   CUST0000  59.0       0  151203.0     4.0            0           1.0   \n",
       "1   CUST0001  69.0       0   58332.0     6.0            1           9.0   \n",
       "2   CUST0002  46.0       1  149481.0     2.0            0          12.0   \n",
       "3   CUST0003  32.0       1  115937.0     1.0            1          13.0   \n",
       "4   CUST0004  60.0       0  103929.0     4.0            1           5.0   \n",
       "\n",
       "   ChurnStatus  \n",
       "0            0  \n",
       "1            0  \n",
       "2            0  \n",
       "3            0  \n",
       "4            0  "
      ]
     },
     "execution_count": 3,
     "metadata": {},
     "output_type": "execute_result"
    }
   ],
   "source": [
    "data.head()"
   ]
  },
  {
   "cell_type": "markdown",
   "id": "59b5d106",
   "metadata": {},
   "source": [
    "### Checking general information"
   ]
  },
  {
   "cell_type": "code",
   "execution_count": 4,
   "id": "83c576c1",
   "metadata": {},
   "outputs": [
    {
     "name": "stdout",
     "output_type": "stream",
     "text": [
      "<class 'pandas.core.frame.DataFrame'>\n",
      "RangeIndex: 3500 entries, 0 to 3499\n",
      "Data columns (total 8 columns):\n",
      " #   Column        Non-Null Count  Dtype  \n",
      "---  ------        --------------  -----  \n",
      " 0   CustomerID    3500 non-null   object \n",
      " 1   Age           3325 non-null   float64\n",
      " 2   Gender        3500 non-null   int64  \n",
      " 3   Income        3328 non-null   float64\n",
      " 4   Tenure        3325 non-null   float64\n",
      " 5   ProductType   3500 non-null   int64  \n",
      " 6   SupportCalls  3329 non-null   float64\n",
      " 7   ChurnStatus   3500 non-null   int64  \n",
      "dtypes: float64(4), int64(3), object(1)\n",
      "memory usage: 218.9+ KB\n"
     ]
    }
   ],
   "source": [
    "data.info()"
   ]
  },
  {
   "cell_type": "markdown",
   "id": "d7b0dbe8",
   "metadata": {},
   "source": [
    "### Summary statistics"
   ]
  },
  {
   "cell_type": "code",
   "execution_count": 5,
   "id": "ca18cc8b",
   "metadata": {},
   "outputs": [
    {
     "data": {
      "text/html": [
       "<div>\n",
       "<style scoped>\n",
       "    .dataframe tbody tr th:only-of-type {\n",
       "        vertical-align: middle;\n",
       "    }\n",
       "\n",
       "    .dataframe tbody tr th {\n",
       "        vertical-align: top;\n",
       "    }\n",
       "\n",
       "    .dataframe thead th {\n",
       "        text-align: right;\n",
       "    }\n",
       "</style>\n",
       "<table border=\"1\" class=\"dataframe\">\n",
       "  <thead>\n",
       "    <tr style=\"text-align: right;\">\n",
       "      <th></th>\n",
       "      <th>Age</th>\n",
       "      <th>Gender</th>\n",
       "      <th>Income</th>\n",
       "      <th>Tenure</th>\n",
       "      <th>ProductType</th>\n",
       "      <th>SupportCalls</th>\n",
       "      <th>ChurnStatus</th>\n",
       "    </tr>\n",
       "  </thead>\n",
       "  <tbody>\n",
       "    <tr>\n",
       "      <th>count</th>\n",
       "      <td>3325.000000</td>\n",
       "      <td>3500.000000</td>\n",
       "      <td>3.328000e+03</td>\n",
       "      <td>3325.000000</td>\n",
       "      <td>3500.000000</td>\n",
       "      <td>3329.000000</td>\n",
       "      <td>3500.000000</td>\n",
       "    </tr>\n",
       "    <tr>\n",
       "      <th>mean</th>\n",
       "      <td>43.606617</td>\n",
       "      <td>0.495714</td>\n",
       "      <td>1.406860e+05</td>\n",
       "      <td>5.041504</td>\n",
       "      <td>0.298857</td>\n",
       "      <td>10.078702</td>\n",
       "      <td>0.044857</td>\n",
       "    </tr>\n",
       "    <tr>\n",
       "      <th>std</th>\n",
       "      <td>14.931487</td>\n",
       "      <td>0.500053</td>\n",
       "      <td>4.333271e+05</td>\n",
       "      <td>2.571029</td>\n",
       "      <td>0.457822</td>\n",
       "      <td>21.735374</td>\n",
       "      <td>0.207020</td>\n",
       "    </tr>\n",
       "    <tr>\n",
       "      <th>min</th>\n",
       "      <td>14.000000</td>\n",
       "      <td>0.000000</td>\n",
       "      <td>2.503700e+04</td>\n",
       "      <td>0.000000</td>\n",
       "      <td>0.000000</td>\n",
       "      <td>1.000000</td>\n",
       "      <td>0.000000</td>\n",
       "    </tr>\n",
       "    <tr>\n",
       "      <th>25%</th>\n",
       "      <td>31.000000</td>\n",
       "      <td>0.000000</td>\n",
       "      <td>5.653025e+04</td>\n",
       "      <td>3.000000</td>\n",
       "      <td>0.000000</td>\n",
       "      <td>3.000000</td>\n",
       "      <td>0.000000</td>\n",
       "    </tr>\n",
       "    <tr>\n",
       "      <th>50%</th>\n",
       "      <td>43.000000</td>\n",
       "      <td>0.000000</td>\n",
       "      <td>8.953250e+04</td>\n",
       "      <td>5.000000</td>\n",
       "      <td>0.000000</td>\n",
       "      <td>7.000000</td>\n",
       "      <td>0.000000</td>\n",
       "    </tr>\n",
       "    <tr>\n",
       "      <th>75%</th>\n",
       "      <td>56.000000</td>\n",
       "      <td>1.000000</td>\n",
       "      <td>1.215025e+05</td>\n",
       "      <td>7.000000</td>\n",
       "      <td>1.000000</td>\n",
       "      <td>11.000000</td>\n",
       "      <td>0.000000</td>\n",
       "    </tr>\n",
       "    <tr>\n",
       "      <th>max</th>\n",
       "      <td>69.000000</td>\n",
       "      <td>1.000000</td>\n",
       "      <td>5.004849e+06</td>\n",
       "      <td>9.000000</td>\n",
       "      <td>1.000000</td>\n",
       "      <td>200.000000</td>\n",
       "      <td>1.000000</td>\n",
       "    </tr>\n",
       "  </tbody>\n",
       "</table>\n",
       "</div>"
      ],
      "text/plain": [
       "               Age       Gender        Income       Tenure  ProductType  \\\n",
       "count  3325.000000  3500.000000  3.328000e+03  3325.000000  3500.000000   \n",
       "mean     43.606617     0.495714  1.406860e+05     5.041504     0.298857   \n",
       "std      14.931487     0.500053  4.333271e+05     2.571029     0.457822   \n",
       "min      14.000000     0.000000  2.503700e+04     0.000000     0.000000   \n",
       "25%      31.000000     0.000000  5.653025e+04     3.000000     0.000000   \n",
       "50%      43.000000     0.000000  8.953250e+04     5.000000     0.000000   \n",
       "75%      56.000000     1.000000  1.215025e+05     7.000000     1.000000   \n",
       "max      69.000000     1.000000  5.004849e+06     9.000000     1.000000   \n",
       "\n",
       "       SupportCalls  ChurnStatus  \n",
       "count   3329.000000  3500.000000  \n",
       "mean      10.078702     0.044857  \n",
       "std       21.735374     0.207020  \n",
       "min        1.000000     0.000000  \n",
       "25%        3.000000     0.000000  \n",
       "50%        7.000000     0.000000  \n",
       "75%       11.000000     0.000000  \n",
       "max      200.000000     1.000000  "
      ]
     },
     "execution_count": 5,
     "metadata": {},
     "output_type": "execute_result"
    }
   ],
   "source": [
    "data.describe()"
   ]
  },
  {
   "cell_type": "markdown",
   "id": "a9aee082",
   "metadata": {},
   "source": [
    "## Step 2: Handling Missing Data"
   ]
  },
  {
   "cell_type": "markdown",
   "id": "a04dcbb6",
   "metadata": {},
   "source": [
    "### Number of null values in each column"
   ]
  },
  {
   "cell_type": "code",
   "execution_count": 12,
   "id": "4ca39794",
   "metadata": {},
   "outputs": [
    {
     "data": {
      "text/plain": [
       "CustomerID        0\n",
       "Age               0\n",
       "Gender            0\n",
       "Income            0\n",
       "Tenure          175\n",
       "ProductType       0\n",
       "SupportCalls      0\n",
       "ChurnStatus       0\n",
       "dtype: int64"
      ]
     },
     "execution_count": 12,
     "metadata": {},
     "output_type": "execute_result"
    }
   ],
   "source": [
    "data.isnull().sum()"
   ]
  },
  {
   "cell_type": "markdown",
   "id": "a620247a",
   "metadata": {},
   "source": [
    "### Handling missing values for Age\n",
    "We did not think using the mean for the age is the best possible solutions so we went for what we find is the best possible one.\n",
    "\n",
    "We find the mean of the age for males and females separated and assign each null age value with the mean depending on the gender."
   ]
  },
  {
   "cell_type": "code",
   "execution_count": 7,
   "id": "cc39f673",
   "metadata": {},
   "outputs": [],
   "source": [
    "meanAgeFemale = data[data[\"Gender\"] == 1][\"Age\"].mean()\n",
    "meanAgeMale = data[data[\"Gender\"] == 0][\"Age\"].mean()\n",
    "\n",
    "data.loc[data[\"Gender\"] == 1, \"Age\"] = data.loc[data[\"Gender\"] == 1, \"Age\"].fillna(meanAgeFemale)\n",
    "data.loc[data[\"Gender\"] == 0, \"Age\"] = data.loc[data[\"Gender\"] == 0, \"Age\"].fillna(meanAgeMale)"
   ]
  },
  {
   "cell_type": "markdown",
   "id": "5f9a5cc7",
   "metadata": {},
   "source": [
    "### Handling missing values for SupportCalls\n",
    "We noticed that the minimum value for SupportCalls is 1, so we assumed that if the value is null it means that no calls were made therefor fill it with zero."
   ]
  },
  {
   "cell_type": "code",
   "execution_count": 9,
   "id": "488aa9a2",
   "metadata": {},
   "outputs": [],
   "source": [
    "data[\"SupportCalls\"] = data[\"SupportCalls\"].fillna(0)"
   ]
  },
  {
   "cell_type": "markdown",
   "id": "8ee82509",
   "metadata": {},
   "source": [
    "### Handling missing values for Income \n",
    "Filling the missing income values with the median is not sufficient.\n",
    "\n",
    "So we grouped customers in bins based on their age range and filled the null income values with the median income of each group"
   ]
  },
  {
   "cell_type": "code",
   "execution_count": 11,
   "id": "daa7f976",
   "metadata": {},
   "outputs": [
    {
     "name": "stderr",
     "output_type": "stream",
     "text": [
      "C:\\Users\\Asus\\AppData\\Local\\Temp\\ipykernel_29608\\500644253.py:5: FutureWarning: The default of observed=False is deprecated and will be changed to True in a future version of pandas. Pass observed=False to retain current behavior or observed=True to adopt the future default and silence this warning.\n",
      "  medianPerGroup = data.groupby(\"GroupByAge\")[\"Income\"].median()\n"
     ]
    }
   ],
   "source": [
    "bins = [10, 20, 30, 40, 50, 60, 70]\n",
    "labels = [\"10-19\", \"20-29\", \"30-39\", \"40-49\", \"50-59\", \"60-69\"]\n",
    "data[\"GroupByAge\"] = pd.cut(data[\"Age\"], bins=bins, labels=labels, right=False)\n",
    "\n",
    "medianPerGroup = data.groupby(\"GroupByAge\")[\"Income\"].median()\n",
    "\n",
    "for group in medianPerGroup.index:\n",
    "    data.loc[(data[\"GroupByAge\"] == group) & (data[\"Income\"].isnull()), \"Income\"] = medianPerGroup[group]\n",
    "\n",
    "data.drop(\"GroupByAge\", axis=1, inplace=True)"
   ]
  },
  {
   "cell_type": "markdown",
   "id": "5e442399",
   "metadata": {},
   "source": [
    "### Handling missing values for Tenure\n",
    "We filled the missing values based on Churn status and predefined group ratios"
   ]
  },
  {
   "cell_type": "markdown",
   "id": "c8573256",
   "metadata": {},
   "source": [
    "When grouping the data by tenure, we notice two things:\n",
    "\n",
    "        1. All people who churn have been with the company for less than two years\n",
    "        2. People who don't churn are split among the three groups, we will fill the missing data according to the existing ratio:\n",
    "            0-2 -> 0.175\n",
    "            3-5 -> 0.35\n",
    "            6-9 -> 0.475"
   ]
  },
  {
   "cell_type": "code",
   "execution_count": 17,
   "id": "548bddc4",
   "metadata": {},
   "outputs": [
    {
     "data": {
      "text/html": [
       "<div>\n",
       "<style scoped>\n",
       "    .dataframe tbody tr th:only-of-type {\n",
       "        vertical-align: middle;\n",
       "    }\n",
       "\n",
       "    .dataframe tbody tr th {\n",
       "        vertical-align: top;\n",
       "    }\n",
       "\n",
       "    .dataframe thead th {\n",
       "        text-align: right;\n",
       "    }\n",
       "</style>\n",
       "<table border=\"1\" class=\"dataframe\">\n",
       "  <thead>\n",
       "    <tr style=\"text-align: right;\">\n",
       "      <th>ChurnStatus</th>\n",
       "      <th>0</th>\n",
       "      <th>1</th>\n",
       "    </tr>\n",
       "    <tr>\n",
       "      <th>TenureGroup</th>\n",
       "      <th></th>\n",
       "      <th></th>\n",
       "    </tr>\n",
       "  </thead>\n",
       "  <tbody>\n",
       "    <tr>\n",
       "      <th>0-2</th>\n",
       "      <td>592</td>\n",
       "      <td>157</td>\n",
       "    </tr>\n",
       "    <tr>\n",
       "      <th>3-5</th>\n",
       "      <td>1171</td>\n",
       "      <td>0</td>\n",
       "    </tr>\n",
       "    <tr>\n",
       "      <th>6-9</th>\n",
       "      <td>1580</td>\n",
       "      <td>0</td>\n",
       "    </tr>\n",
       "  </tbody>\n",
       "</table>\n",
       "</div>"
      ],
      "text/plain": [
       "ChurnStatus     0    1\n",
       "TenureGroup           \n",
       "0-2           592  157\n",
       "3-5          1171    0\n",
       "6-9          1580    0"
      ]
     },
     "execution_count": 17,
     "metadata": {},
     "output_type": "execute_result"
    }
   ],
   "source": [
    "bins = [0, 3, 6, 10]\n",
    "labels = ['0-2', '3-5', '6-9']\n",
    "\n",
    "data['TenureGroup'] = pd.cut(data['Tenure'], bins=bins, labels=labels, right=False)\n",
    "table = pd.crosstab(data['TenureGroup'], data['ChurnStatus'])\n",
    "data.drop(\"TenureGroup\", axis=1, inplace=True)\n",
    "table"
   ]
  },
  {
   "cell_type": "markdown",
   "id": "10456c28",
   "metadata": {},
   "source": [
    "Using the ratios generated below, we can apply the same ratio to the missing values"
   ]
  },
  {
   "cell_type": "code",
   "execution_count": 18,
   "id": "ac0c9c84",
   "metadata": {},
   "outputs": [
    {
     "data": {
      "text/plain": [
       "Tenure\n",
       "6-9    0.472629\n",
       "3-5    0.350284\n",
       "0-2    0.177086\n",
       "Name: proportion, dtype: float64"
      ]
     },
     "execution_count": 18,
     "metadata": {},
     "output_type": "execute_result"
    }
   ],
   "source": [
    "tenureGroupData = pd.cut(data[(data['ChurnStatus'] == 0) & (data['Tenure'].notnull())]['Tenure'], bins=bins, labels=labels, right=False)\n",
    "ratios = tenureGroupData.value_counts(normalize=True)\n",
    "ratios"
   ]
  },
  {
   "cell_type": "code",
   "execution_count": 19,
   "id": "23bbf070",
   "metadata": {},
   "outputs": [],
   "source": [
    "for i in data.index:\n",
    "    if pd.isnull(data.loc[i, \"Tenure\"]):\n",
    "        if data.loc[i, \"ChurnStatus\"] == 1:\n",
    "            data.loc[i, \"Tenure\"] = np.random.uniform(0, 2)\n",
    "        else:\n",
    "            r = np.random.rand()\n",
    "            if r < 0.175:\n",
    "                data.loc[i, \"Tenure\"] = np.random.uniform(0, 2)\n",
    "            elif r < 0.525:\n",
    "                data.loc[i, \"Tenure\"] = np.random.uniform(3, 5)\n",
    "            else:\n",
    "                data.loc[i, \"Tenure\"] = np.random.uniform(6, 9)"
   ]
  },
  {
   "cell_type": "markdown",
   "id": "1e9c0147",
   "metadata": {},
   "source": [
    "### Number of null values in each column after solving missing values"
   ]
  },
  {
   "cell_type": "code",
   "execution_count": 20,
   "id": "051b1722",
   "metadata": {},
   "outputs": [
    {
     "data": {
      "text/plain": [
       "CustomerID      0\n",
       "Age             0\n",
       "Gender          0\n",
       "Income          0\n",
       "Tenure          0\n",
       "ProductType     0\n",
       "SupportCalls    0\n",
       "ChurnStatus     0\n",
       "dtype: int64"
      ]
     },
     "execution_count": 20,
     "metadata": {},
     "output_type": "execute_result"
    }
   ],
   "source": [
    "data.isnull().sum()"
   ]
  }
 ],
 "metadata": {
  "kernelspec": {
   "display_name": ".venv",
   "language": "python",
   "name": "python3"
  },
  "language_info": {
   "codemirror_mode": {
    "name": "ipython",
    "version": 3
   },
   "file_extension": ".py",
   "mimetype": "text/x-python",
   "name": "python",
   "nbconvert_exporter": "python",
   "pygments_lexer": "ipython3",
   "version": "3.13.3"
  }
 },
 "nbformat": 4,
 "nbformat_minor": 5
}
