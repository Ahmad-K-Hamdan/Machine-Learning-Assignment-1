{
 "cells": [
  {
   "cell_type": "markdown",
   "id": "dffbad8a",
   "metadata": {},
   "source": [
    "# ENCS5341 - Machine Learning  \n",
    "## Assignment 1: Data Preprocessing & Exploratory Data Analysis (EDA)"
   ]
  },
  {
   "cell_type": "markdown",
   "id": "f7221181",
   "metadata": {},
   "source": [
    "## Environment Setup"
   ]
  },
  {
   "cell_type": "code",
   "execution_count": null,
   "id": "8fc6de3c",
   "metadata": {},
   "outputs": [],
   "source": [
    "!python -m venv .venv\n",
    "# and then .venv\\Scripts\\activate in the terminal"
   ]
  },
  {
   "cell_type": "markdown",
   "id": "9368518c",
   "metadata": {},
   "source": [
    "## Install all required packages"
   ]
  },
  {
   "cell_type": "code",
   "execution_count": null,
   "id": "02788236",
   "metadata": {},
   "outputs": [],
   "source": [
    "!pip install numpy pandas matplotlib seaborn scikit-learn"
   ]
  },
  {
   "cell_type": "markdown",
   "id": "4d5f3f64",
   "metadata": {},
   "source": [
    "## Import packages"
   ]
  },
  {
   "cell_type": "code",
   "execution_count": null,
   "id": "53a5af48",
   "metadata": {},
   "outputs": [],
   "source": [
    "import numpy as np\n",
    "import pandas as pd\n",
    "import matplotlib.pyplot as plt\n",
    "import seaborn as sns\n",
    "from scipy import stats\n",
    "from sklearn.preprocessing import StandardScaler, MinMaxScaler"
   ]
  },
  {
   "cell_type": "markdown",
   "id": "27957c25",
   "metadata": {},
   "source": [
    "## Step 1: Data Loading and Initial Inspection:"
   ]
  },
  {
   "cell_type": "markdown",
   "id": "7acc58d2",
   "metadata": {},
   "source": [
    "### Loading the data"
   ]
  },
  {
   "cell_type": "code",
   "execution_count": null,
   "id": "ea790f49",
   "metadata": {},
   "outputs": [],
   "source": [
    "data = pd.read_csv(\"../data/Customer_Data.csv\")"
   ]
  },
  {
   "cell_type": "markdown",
   "id": "bb7388a1",
   "metadata": {},
   "source": [
    "### Inspecting first few rows"
   ]
  },
  {
   "cell_type": "code",
   "execution_count": null,
   "id": "36a3da5f",
   "metadata": {},
   "outputs": [],
   "source": [
    "data.head()"
   ]
  },
  {
   "cell_type": "markdown",
   "id": "59b5d106",
   "metadata": {},
   "source": [
    "### Checking general information"
   ]
  },
  {
   "cell_type": "code",
   "execution_count": null,
   "id": "83c576c1",
   "metadata": {},
   "outputs": [],
   "source": [
    "data.info()"
   ]
  },
  {
   "cell_type": "markdown",
   "id": "d7b0dbe8",
   "metadata": {},
   "source": [
    "### Summary statistics"
   ]
  },
  {
   "cell_type": "code",
   "execution_count": null,
   "id": "ca18cc8b",
   "metadata": {},
   "outputs": [],
   "source": [
    "data.describe()"
   ]
  },
  {
   "cell_type": "markdown",
   "id": "a9aee082",
   "metadata": {},
   "source": [
    "## Step 2: Handling Missing Data"
   ]
  },
  {
   "cell_type": "markdown",
   "id": "a04dcbb6",
   "metadata": {},
   "source": [
    "### Number of null values in each column"
   ]
  },
  {
   "cell_type": "code",
   "execution_count": null,
   "id": "4ca39794",
   "metadata": {},
   "outputs": [],
   "source": [
    "data.isnull().sum()"
   ]
  },
  {
   "cell_type": "markdown",
   "id": "a620247a",
   "metadata": {},
   "source": [
    "### Handling missing values for Age\n",
    "\n",
    "We did not think using the overall mean for the age is ideal, so we decided to fill missing values using the mean for each gender group separately."
   ]
  },
  {
   "cell_type": "code",
   "execution_count": null,
   "id": "cc39f673",
   "metadata": {},
   "outputs": [],
   "source": [
    "meanAgeFemale = data[data[\"Gender\"] == 1][\"Age\"].mean()\n",
    "meanAgeMale = data[data[\"Gender\"] == 0][\"Age\"].mean()\n",
    "\n",
    "data.loc[data[\"Gender\"] == 1, \"Age\"] = data.loc[data[\"Gender\"] == 1, \"Age\"].fillna(meanAgeFemale)\n",
    "data.loc[data[\"Gender\"] == 0, \"Age\"] = data.loc[data[\"Gender\"] == 0, \"Age\"].fillna(meanAgeMale)"
   ]
  },
  {
   "cell_type": "markdown",
   "id": "5f9a5cc7",
   "metadata": {},
   "source": [
    "### Handling missing values for SupportCalls\n",
    "We noticed that the minimum value for SupportCalls is 1, so we assumed that if the value is null it means that no calls were made therefor fill it with zero."
   ]
  },
  {
   "cell_type": "code",
   "execution_count": null,
   "id": "488aa9a2",
   "metadata": {},
   "outputs": [],
   "source": [
    "data[\"SupportCalls\"] = data[\"SupportCalls\"].fillna(0)"
   ]
  },
  {
   "cell_type": "markdown",
   "id": "8ee82509",
   "metadata": {},
   "source": [
    "### Handling missing values for Income \n",
    "Filling the missing income values with the median is not sufficient.\n",
    "\n",
    "So we grouped customers in bins based on their age range and filled the null income values with the median income of each group"
   ]
  },
  {
   "cell_type": "code",
   "execution_count": null,
   "id": "daa7f976",
   "metadata": {},
   "outputs": [],
   "source": [
    "bins = [10, 20, 30, 40, 50, 60, 70]\n",
    "labels = [\"10-19\", \"20-29\", \"30-39\", \"40-49\", \"50-59\", \"60-69\"]\n",
    "data[\"GroupByAge\"] = pd.cut(data[\"Age\"], bins=bins, labels=labels, right=False)\n",
    "\n",
    "medianPerGroup = data.groupby(\"GroupByAge\")[\"Income\"].median()\n",
    "\n",
    "for group in medianPerGroup.index:\n",
    "    data.loc[(data[\"GroupByAge\"] == group) & (data[\"Income\"].isnull()), \"Income\"] = medianPerGroup[group]\n",
    "\n",
    "data.drop(\"GroupByAge\", axis=1, inplace=True)"
   ]
  },
  {
   "cell_type": "markdown",
   "id": "5e442399",
   "metadata": {},
   "source": [
    "### Handling missing values for Tenure\n",
    "We filled the missing values based on Churn status and predefined group ratios"
   ]
  },
  {
   "cell_type": "code",
   "execution_count": null,
   "id": "92647021",
   "metadata": {},
   "outputs": [],
   "source": [
    "bins = [0, 3, 6, 10]\n",
    "labels = ['0-2', '3-5', '6-9']\n",
    "\n",
    "data['TenureGroup'] = pd.cut(data['Tenure'], bins=bins, labels=labels, right=False)\n",
    "table = pd.crosstab(data['TenureGroup'], data['ChurnStatus'])\n",
    "print(table)"
   ]
  },
  {
   "cell_type": "code",
   "execution_count": null,
   "id": "9795d7a4",
   "metadata": {},
   "outputs": [],
   "source": [
    "table.plot(kind='bar', figsize=(7,5))\n",
    "plt.title(\"Churn Status by Tenure Group\")\n",
    "plt.xlabel(\"Tenure Group (Years)\")\n",
    "plt.ylabel(\"Number of Customers\")\n",
    "plt.legend(title=\"Churn Status\", labels=[\"Stayed (0)\", \"Churned (1)\"])\n",
    "plt.xticks(rotation=0)\n",
    "plt.show()"
   ]
  },
  {
   "cell_type": "markdown",
   "id": "c8573256",
   "metadata": {},
   "source": [
    "When grouping the data by tenure, we notice two things:\n",
    "\n",
    "        1. All people who churn have been with the company for less than two years\n",
    "        2. People who don't churn are split among the three groups, we will fill the missing data according to the existing ratio:\n",
    "            0-2 -> 0.175\n",
    "            3-5 -> 0.35\n",
    "            6-9 -> 0.475"
   ]
  },
  {
   "cell_type": "code",
   "execution_count": null,
   "id": "548bddc4",
   "metadata": {},
   "outputs": [],
   "source": [
    "bins = [0, 3, 6, 10]\n",
    "labels = ['0-2', '3-5', '6-9']\n",
    "\n",
    "data['TenureGroup'] = pd.cut(data['Tenure'], bins=bins, labels=labels, right=False)\n",
    "table = pd.crosstab(data['TenureGroup'], data['ChurnStatus'])\n",
    "data.drop(\"TenureGroup\", axis=1, inplace=True)\n",
    "table"
   ]
  },
  {
   "cell_type": "markdown",
   "id": "10456c28",
   "metadata": {},
   "source": [
    "Using the ratios generated below, we can apply the same ratio to the missing values"
   ]
  },
  {
   "cell_type": "code",
   "execution_count": null,
   "id": "ac0c9c84",
   "metadata": {},
   "outputs": [],
   "source": [
    "tenureGroupData = pd.cut(data[(data['ChurnStatus'] == 0) & (data['Tenure'].notnull())]['Tenure'], bins=bins, labels=labels, right=False)\n",
    "ratios = tenureGroupData.value_counts(normalize=True)\n",
    "ratios"
   ]
  },
  {
   "cell_type": "code",
   "execution_count": null,
   "id": "23bbf070",
   "metadata": {},
   "outputs": [],
   "source": [
    "for i in data.index:\n",
    "    if pd.isnull(data.loc[i, \"Tenure\"]):\n",
    "        if data.loc[i, \"ChurnStatus\"] == 1:\n",
    "            data.loc[i, \"Tenure\"] = np.random.uniform(0, 2)\n",
    "        else:\n",
    "            r = np.random.rand()\n",
    "            if r < 0.175:\n",
    "                data.loc[i, \"Tenure\"] = np.random.uniform(0, 2)\n",
    "            elif r < 0.35:\n",
    "                data.loc[i, \"Tenure\"] = np.random.uniform(3, 5)\n",
    "            else:\n",
    "                data.loc[i, \"Tenure\"] = np.random.uniform(6, 9)"
   ]
  },
  {
   "cell_type": "markdown",
   "id": "1e9c0147",
   "metadata": {},
   "source": [
    "### Number of null values in each column after solving missing values"
   ]
  },
  {
   "cell_type": "code",
   "execution_count": null,
   "id": "051b1722",
   "metadata": {},
   "outputs": [],
   "source": [
    "data.isnull().sum()"
   ]
  },
  {
   "cell_type": "markdown",
   "id": "f18d5159",
   "metadata": {},
   "source": [
    "## Step 3: Handling Outliers"
   ]
  },
  {
   "cell_type": "markdown",
   "id": "59f542b3",
   "metadata": {},
   "source": [
    "The following shows the box plot for each numerical feature."
   ]
  },
  {
   "cell_type": "code",
   "execution_count": null,
   "id": "6a764cca",
   "metadata": {},
   "outputs": [],
   "source": [
    "features = [\"Income\", \"Age\", \"Tenure\", \"SupportCalls\"]\n",
    "\n",
    "plt.figure(figsize=(10, 6))\n",
    "\n",
    "for i, col in enumerate(features, 1):\n",
    "    plt.subplot(2, 2, i)\n",
    "    sns.boxplot(y=data[col], color=\"skyblue\")\n",
    "    plt.title(f\"Boxplot of {col}\")\n",
    "    plt.ylabel(col)\n",
    "\n",
    "plt.tight_layout()\n",
    "plt.show()"
   ]
  },
  {
   "cell_type": "markdown",
   "id": "bb06c604",
   "metadata": {},
   "source": [
    "It appears that both Income and SupportCalls contain outlier values. In contrast, Tenure does not seem to have any noticeable outliers. Age also appears generally consistent, although we should further check whether there are any customers belonging to very young age groups."
   ]
  },
  {
   "cell_type": "markdown",
   "id": "544aa023",
   "metadata": {},
   "source": [
    "### Handling outliers in the Age column.\n"
   ]
  },
  {
   "cell_type": "markdown",
   "id": "f6308c05",
   "metadata": {},
   "source": [
    "We will determine whether a customer’s age is an outlier by considering both their Age and Tenure."
   ]
  },
  {
   "cell_type": "code",
   "execution_count": null,
   "id": "63183f84",
   "metadata": {},
   "outputs": [],
   "source": [
    "outliers = data[data['Age'] - data['Tenure'] <= 15]\n",
    "\n",
    "print(\"Count:\", len(outliers))"
   ]
  },
  {
   "cell_type": "markdown",
   "id": "0660da13",
   "metadata": {},
   "source": [
    "We noticed that there are 199 customers whose Age values were probably entered incorrectly.\n",
    "\n",
    "To smooth these data, we will generate a random number between 16 and 20 and add it to the Tenure value. The result will be considered as the Age of the customer."
   ]
  },
  {
   "cell_type": "code",
   "execution_count": null,
   "id": "d233aac5",
   "metadata": {},
   "outputs": [],
   "source": [
    "outliers = (data['Age'] - data['Tenure'] <= 15)\n",
    "\n",
    "randomNumber = np.random.uniform(16, 20, size=outliers.sum())\n",
    "data.loc[outliers, 'Age'] = data.loc[outliers, 'Tenure'] + randomNumber\n",
    "\n",
    "outliersAge = data[data['Age'] - data['Tenure'] <= 15]\n",
    "print(\"Count:\", len(outliersAge))"
   ]
  },
  {
   "cell_type": "markdown",
   "id": "e4fe0e10",
   "metadata": {},
   "source": [
    "The number of Age outliers is now zero. All Age values have been corrected."
   ]
  },
  {
   "cell_type": "markdown",
   "id": "9e3e9232",
   "metadata": {},
   "source": [
    "### Handling outliers in the SupportCalls column."
   ]
  },
  {
   "cell_type": "markdown",
   "id": "c3be30ae",
   "metadata": {},
   "source": [
    "The following box plot highlight the presence of outliers in the SupportCalls."
   ]
  },
  {
   "cell_type": "code",
   "execution_count": null,
   "id": "e442a27c",
   "metadata": {},
   "outputs": [],
   "source": [
    "fig, ax = plt.subplots(figsize=(9, 3))\n",
    "\n",
    "sns.boxplot(data=data, x=\"SupportCalls\", ax=ax)\n",
    "ax.set_title(\"Box Plot of SupportCalls\")\n",
    "plt.show()"
   ]
  },
  {
   "cell_type": "markdown",
   "id": "ec60e445",
   "metadata": {},
   "source": [
    "It's clear that there are outliers in the SupportCalls. We will detect these rows using the Z-score."
   ]
  },
  {
   "cell_type": "code",
   "execution_count": null,
   "id": "1655f5a4",
   "metadata": {},
   "outputs": [],
   "source": [
    "z_scores = np.abs(stats.zscore(data['SupportCalls'].dropna()))\n",
    "\n",
    "outliers_mask = z_scores > 3\n",
    "\n",
    "print(\"Number of SupportCalls outliers:\", outliers_mask.sum())"
   ]
  },
  {
   "cell_type": "markdown",
   "id": "0f9487aa",
   "metadata": {},
   "source": [
    "We will resolve these outliers using binning methods with a bin size of 500, where each value in a bin is replaced by the median of that bin. This smooths the data and reduces the impact of extreme values."
   ]
  },
  {
   "cell_type": "code",
   "execution_count": null,
   "id": "1d0df677",
   "metadata": {},
   "outputs": [],
   "source": [
    "data_sorted = data.sort_values('SupportCalls').reset_index(drop=True)\n",
    "\n",
    "bin_size = 500\n",
    "n = len(data_sorted)\n",
    "num_bins = int(np.ceil(n / bin_size))\n",
    "\n",
    "for i in range(num_bins):\n",
    "    start = i * bin_size\n",
    "    end = min((i + 1) * bin_size, n)\n",
    "    median_value = data_sorted.loc[start:end-1, 'SupportCalls'].median()\n",
    "    data_sorted.loc[start:end-1, 'SupportCalls'] = median_value\n",
    "\n",
    "data['SupportCalls'] = data_sorted['SupportCalls']\n",
    "\n",
    "z_scores = np.abs(stats.zscore(data['SupportCalls'].dropna()))\n",
    "\n",
    "outliers_mask = z_scores > 3\n",
    "\n",
    "print(\"Number of SupportCalls outliers after smoothing:\", outliers_mask.sum())"
   ]
  },
  {
   "cell_type": "markdown",
   "id": "5263f022",
   "metadata": {},
   "source": [
    "SupportCalls values has been smoothed correctly."
   ]
  },
  {
   "cell_type": "markdown",
   "id": "94b0d07b",
   "metadata": {},
   "source": [
    "### Handling outliers in the Income column."
   ]
  },
  {
   "cell_type": "markdown",
   "id": "6bbac959",
   "metadata": {},
   "source": [
    "The following box plot highlight the presence of outliers in the Income."
   ]
  },
  {
   "cell_type": "code",
   "execution_count": null,
   "id": "c8990e16",
   "metadata": {},
   "outputs": [],
   "source": [
    "fig, ax = plt.subplots(figsize=(9, 3))\n",
    "\n",
    "sns.boxplot(data=data, x=\"Income\", ax=ax)\n",
    "ax.set_title(\"Box Plot of Income\")\n",
    "plt.show()"
   ]
  },
  {
   "cell_type": "markdown",
   "id": "79dd0d57",
   "metadata": {},
   "source": [
    "It's clear that there are outliers in the Income. We will detect these rows using the Z-score."
   ]
  },
  {
   "cell_type": "code",
   "execution_count": null,
   "id": "f78c7666",
   "metadata": {},
   "outputs": [],
   "source": [
    "z_scores = np.abs(stats.zscore(data['Income'].dropna()))\n",
    "\n",
    "outliers_mask = z_scores > 3\n",
    "\n",
    "print(\"Number of Income outliers:\", outliers_mask.sum())"
   ]
  },
  {
   "cell_type": "markdown",
   "id": "edbfb57c",
   "metadata": {},
   "source": [
    "It seems that 50 Income entries were stored in a different unit. To correct this, we will normalize them by dividing each value by 1,000."
   ]
  },
  {
   "cell_type": "code",
   "execution_count": null,
   "id": "c6603d1f",
   "metadata": {},
   "outputs": [],
   "source": [
    "outlier_indices = data['Income'].dropna().index[outliers_mask]\n",
    "\n",
    "data.loc[outlier_indices, 'Income'] = data.loc[outlier_indices, 'Income'] / 1000\n",
    "\n",
    "z_scores = np.abs(stats.zscore(data['Income'].dropna()))\n",
    "\n",
    "outliers_mask = z_scores > 3\n",
    "\n",
    "print(\"Number of Income outliers after smoothing:\", outliers_mask.sum())"
   ]
  },
  {
   "cell_type": "markdown",
   "id": "706acdba",
   "metadata": {},
   "source": [
    "Income values has been smoothed correctly."
   ]
  },
  {
   "cell_type": "markdown",
   "id": "083a00e0",
   "metadata": {},
   "source": [
    "After modifying the extreme Income values (by scaling them down), the mean and standard deviation of the column change.\n",
    "\n",
    "Because Z-scores depend on these statistics, we need to recalculate them to verify whether the adjusted values are now within the normal range or if any points still qualify as outliers. \n",
    "\n",
    "So you might have to run the above part twice to clean the Income outliers"
   ]
  },
  {
   "cell_type": "markdown",
   "id": "0faefd94",
   "metadata": {},
   "source": [
    "The following boxplots confirm that the outliers have been successfully resolved, resulting in more consistent distributions."
   ]
  },
  {
   "cell_type": "code",
   "execution_count": null,
   "id": "f94c0b10",
   "metadata": {},
   "outputs": [],
   "source": [
    "features = [\"Income\", \"Age\", \"Tenure\", \"SupportCalls\"]\n",
    "\n",
    "plt.figure(figsize=(10, 6))\n",
    "\n",
    "for i, col in enumerate(features, 1):\n",
    "    plt.subplot(2, 2, i)\n",
    "    sns.boxplot(y=data[col], color=\"skyblue\")\n",
    "    plt.title(f\"Boxplot of {col}\")\n",
    "    plt.ylabel(col)\n",
    "\n",
    "plt.tight_layout()\n",
    "plt.show()"
   ]
  },
  {
   "cell_type": "markdown",
   "id": "c644f6e9",
   "metadata": {},
   "source": [
    "## Step 4: Feature Scaling"
   ]
  },
  {
   "cell_type": "markdown",
   "id": "8da21f17",
   "metadata": {},
   "source": [
    "In feature scaling, we chose Z-score scaling for all of the numerical features we have because:\n",
    "1. It centers data around mean of 0 and a standard deviation of 1. \n",
    "2. Keeps the shape and distribution of each feature.\n",
    "3. Ensures all of the features are equally important for the model training, even if they have different numerical scales.\n",
    "4. Our values are not naturally bounded and can be considered continuous."
   ]
  },
  {
   "cell_type": "markdown",
   "id": "ec806bac",
   "metadata": {},
   "source": [
    "### Visualize distributions before scaling"
   ]
  },
  {
   "cell_type": "code",
   "execution_count": null,
   "id": "1464023d",
   "metadata": {},
   "outputs": [],
   "source": [
    "fig, axs = plt.subplots(figsize=(20, 4), ncols=4)\n",
    "sns.histplot(data=data, x=\"Age\", ax=axs[0], bins=10)\n",
    "sns.histplot(data=data, x=\"Income\", ax=axs[1], bins=10)\n",
    "sns.histplot(data=data, x=\"Tenure\", ax=axs[2], bins=10)\n",
    "sns.histplot(data=data, x=\"SupportCalls\", ax=axs[3], bins=10)"
   ]
  },
  {
   "cell_type": "markdown",
   "id": "fd5096a6",
   "metadata": {},
   "source": [
    "### Apply standardization\n"
   ]
  },
  {
   "cell_type": "code",
   "execution_count": null,
   "id": "310f1999",
   "metadata": {},
   "outputs": [],
   "source": [
    "scaler = StandardScaler()\n",
    "data[['Age', 'Income', 'SupportCalls', 'Tenure']] = scaler.fit_transform(data[['Age', 'Income', 'SupportCalls', 'Tenure']])"
   ]
  },
  {
   "cell_type": "markdown",
   "id": "77fa3a4e",
   "metadata": {},
   "source": [
    "### Visualize distributions after scaling"
   ]
  },
  {
   "cell_type": "code",
   "execution_count": null,
   "id": "11f5399e",
   "metadata": {},
   "outputs": [],
   "source": [
    "fig, axs = plt.subplots(figsize=(20, 4), ncols=4)\n",
    "sns.histplot(data=data, x=\"Age\", ax=axs[0], bins=10)\n",
    "sns.histplot(data=data, x=\"Income\", ax=axs[1], bins=10)\n",
    "sns.histplot(data=data, x=\"Tenure\", ax=axs[2], bins=10)\n",
    "sns.histplot(data=data, x=\"SupportCalls\", ax=axs[3], bins=10)"
   ]
  },
  {
   "cell_type": "markdown",
   "id": "4feddfb5",
   "metadata": {},
   "source": [
    "All numerical features are now standardized with mean 0 and standard deviation 1, ensuring uniform contribution during model training."
   ]
  },
  {
   "cell_type": "markdown",
   "id": "247c1e10",
   "metadata": {},
   "source": [
    "## Step 5: Exploratory Data Analysis"
   ]
  },
  {
   "cell_type": "markdown",
   "id": "fdb00f8e",
   "metadata": {},
   "source": [
    "### • Univariate Analysis"
   ]
  },
  {
   "cell_type": "markdown",
   "id": "8e55fec3",
   "metadata": {},
   "source": [
    "The following plots are histograms and box plots for all numerical features.\n",
    "\n",
    "The left column represents the data distribution across different bins.\n",
    "\n",
    "The right column represents the spread as well as any outliers.\n",
    "\n",
    "We can make the following remarks based on the plots:\n",
    "\n",
    "1. For age: the customers are spread uniformly across age distributions with no skew.\n",
    "2. For income: after removing outliers, the distribution is now more balanced and interpretable, showing the main customer group clearly.\n",
    "3. For tenure: values are evenly distributed across the full range with no anomalies.\n",
    "4. For support calls: distribution appears reasonable and concentrated around lower values after removing extreme outliers."
   ]
  },
  {
   "cell_type": "code",
   "execution_count": null,
   "id": "056c2081",
   "metadata": {},
   "outputs": [],
   "source": [
    "fig, axs = plt.subplots(figsize=(22, 16), ncols=2, nrows=4)\n",
    "sns.histplot(data=data, x=\"Age\", ax=axs[0][0], bins=10)\n",
    "sns.boxplot(data=data, y=\"Age\",ax=axs[0][1])\n",
    "\n",
    "sns.histplot(data=data, x=\"Income\", ax=axs[1][0], bins=10)\n",
    "sns.boxplot(data=data, y=\"Income\",ax=axs[1][1])\n",
    "\n",
    "sns.histplot(data=data, x=\"Tenure\", ax=axs[2][0], bins=10)\n",
    "sns.boxplot(data=data, y=\"Tenure\",ax=axs[2][1])\n",
    "\n",
    "sns.histplot(data=data, x=\"SupportCalls\", ax=axs[3][0], bins=10)\n",
    "sns.boxplot(data=data, y=\"SupportCalls\",ax=axs[3][1])"
   ]
  },
  {
   "cell_type": "markdown",
   "id": "346b4eb4",
   "metadata": {},
   "source": [
    "The following plot shows the distribution of age values separated by gender.\n",
    "\n",
    "The overlapping bars show how both genders are spread across the age ranges, the colored tips represent which gender occurs more in that age range."
   ]
  },
  {
   "cell_type": "code",
   "execution_count": null,
   "id": "f2a1d2c3",
   "metadata": {},
   "outputs": [],
   "source": [
    "sns.histplot(data=data, x=\"Age\", hue=\"Gender\", bins=10)"
   ]
  },
  {
   "cell_type": "markdown",
   "id": "68c01a12",
   "metadata": {},
   "source": [
    "The following bar plots visualize the distribution for all categorical values.\n",
    "\n",
    "We can make the following remarks based on the plots:\n",
    "\n",
    "1. For gender: the data is very balanced meaning there is no bias in the distribution.\n",
    "2. For churn status: the data is not balanced as barely any customers churn compared to the customers who stay.\n",
    "2. For product type: almost half of the customers go for the premium product rather than the basic. "
   ]
  },
  {
   "cell_type": "code",
   "execution_count": null,
   "id": "fe5afd7e",
   "metadata": {},
   "outputs": [],
   "source": [
    "fig, axs = plt.subplots(figsize=(16, 4), ncols=3)\n",
    "sns.countplot(data=data, x=\"Gender\", ax=axs[0])\n",
    "sns.countplot(data=data, x=\"ChurnStatus\", ax=axs[1])\n",
    "sns.countplot(data=data, x=\"ProductType\", ax=axs[2])"
   ]
  },
  {
   "cell_type": "markdown",
   "id": "5dd84efe",
   "metadata": {},
   "source": [
    "### • Bivariate Analysis"
   ]
  },
  {
   "cell_type": "markdown",
   "id": "6a6dd2e3",
   "metadata": {},
   "source": [
    "The following scatter plot shows the relationship between Age and Income and the points are colored by ChurnStatus.\n",
    "\n",
    "With the outliers already removed, the relationship between the Income and ChurnStatus becomes clear as no customer with an income higher than 50k has churned across all ages."
   ]
  },
  {
   "cell_type": "code",
   "execution_count": null,
   "id": "59e27cba",
   "metadata": {},
   "outputs": [],
   "source": [
    "sns.scatterplot(x=\"Age\", y='Income', hue='ChurnStatus', data=data)\n",
    "plt.title(f\"Age vs Income colored by ChurnStatus\")"
   ]
  },
  {
   "cell_type": "markdown",
   "id": "41ca1019",
   "metadata": {},
   "source": [
    "The following plot shows how customers who stayed or churned are distributed across different tenure and income values.\n",
    "\n",
    "The result comes as no surprise as we already learned the relationship between Tenure and Churn as well as the relationship between Tenure and Income, so this plot is a mix of those."
   ]
  },
  {
   "cell_type": "code",
   "execution_count": null,
   "id": "a4be31e6",
   "metadata": {},
   "outputs": [],
   "source": [
    "\n",
    "sns.scatterplot(x=\"Tenure\", y='Income', hue='ChurnStatus', data=data)\n",
    "plt.title(f\"Tenure vs Income colored by ChurnStatus\")"
   ]
  },
  {
   "cell_type": "markdown",
   "id": "c3a1dc96",
   "metadata": {},
   "source": [
    "This plot still shows no meaningful pattern between SupportCalls and Income, even after outlier removal, ChurnStatus appears unrelated to these two features."
   ]
  },
  {
   "cell_type": "code",
   "execution_count": null,
   "id": "e5bd9c84",
   "metadata": {},
   "outputs": [],
   "source": [
    "sns.scatterplot(x=\"SupportCalls\", y='Income', hue='ChurnStatus', data=data)\n",
    "plt.title(f\"SupportCalls vs Income colored by ChurnStatus\")"
   ]
  },
  {
   "cell_type": "markdown",
   "id": "ea09c418",
   "metadata": {},
   "source": [
    "The following box plots show the relationship between numerical features and ChurnStatus.\n",
    "\n",
    "The plots shows that customers who churn have lower tenure and lower income."
   ]
  },
  {
   "cell_type": "code",
   "execution_count": null,
   "id": "b509c781",
   "metadata": {},
   "outputs": [],
   "source": [
    "fig, axs = plt.subplots(figsize=(24, 4), ncols=4)\n",
    "sns.boxplot(x=\"ChurnStatus\", y=\"Age\", data=data, ax=axs[0])\n",
    "sns.boxplot(x=\"ChurnStatus\", y=\"Income\", data=data, ax=axs[1])\n",
    "sns.boxplot(x=\"ChurnStatus\", y=\"Tenure\", data=data, ax=axs[2])\n",
    "sns.boxplot(x=\"ChurnStatus\", y=\"SupportCalls\", data=data, ax=axs[3])"
   ]
  },
  {
   "cell_type": "markdown",
   "id": "e2991822",
   "metadata": {},
   "source": [
    "The following count plots show how Gender and ProductType relate to the ChurnStatus.\n",
    "\n",
    "Since the churn ratio appears similar for customers who churned or who leaved in both categories, we can conclude that Gender and ProductType play no part in predicting churn status."
   ]
  },
  {
   "cell_type": "code",
   "execution_count": null,
   "id": "5787e227",
   "metadata": {},
   "outputs": [],
   "source": [
    "fig, axs = plt.subplots(figsize=(12, 4), ncols=2)\n",
    "sns.countplot(x='Gender', hue='ChurnStatus', data=data, ax=axs[0])\n",
    "sns.countplot(x='ProductType', hue='ChurnStatus', data=data, ax=axs[1])"
   ]
  },
  {
   "cell_type": "markdown",
   "id": "c1f4a1d1",
   "metadata": {},
   "source": [
    "### • Correlation Analysis"
   ]
  },
  {
   "cell_type": "markdown",
   "id": "c433d96b",
   "metadata": {},
   "source": [
    "The following plot contains all of the plots for all of the features against each other. It helps us get a single massive picture for all of the features at once. "
   ]
  },
  {
   "cell_type": "code",
   "execution_count": null,
   "id": "a62cdfb3",
   "metadata": {},
   "outputs": [],
   "source": [
    "sns.pairplot(data[['Age','Income','Tenure','SupportCalls','ChurnStatus']], hue='ChurnStatus')"
   ]
  },
  {
   "cell_type": "markdown",
   "id": "00aa55f2",
   "metadata": {},
   "source": [
    "We can conclude from the following heatmap that the correlation between Tenure and the target is the strongest and we can split the data to two categorizes:\n",
    "\n",
    "1. Customers who have been with the company longer tend to stay.\n",
    "2. New customers are possible to churn.\n",
    "\n",
    "Other features do not affect the target feature as their correlations are close to 0, showing that they have weak affect on churn in this data."
   ]
  },
  {
   "cell_type": "code",
   "execution_count": null,
   "id": "899be890",
   "metadata": {},
   "outputs": [],
   "source": [
    "sns.heatmap(data[['Tenure', 'Age', 'Income', 'SupportCalls', 'ChurnStatus']].corr(), annot=True)\n",
    "plt.title('Correlation Heatmap')"
   ]
  },
  {
   "cell_type": "markdown",
   "id": "2ea2fcbf",
   "metadata": {},
   "source": [
    "## Step 6: Data Visualization"
   ]
  },
  {
   "cell_type": "markdown",
   "id": "67424338",
   "metadata": {},
   "source": [
    "### Age vs Income vs ChurnStatus"
   ]
  },
  {
   "cell_type": "code",
   "execution_count": null,
   "id": "5264d7d9",
   "metadata": {},
   "outputs": [],
   "source": [
    "sns.scatterplot(x=\"Age\", y='Income', hue='ChurnStatus', data=data)\n",
    "plt.title(f\"Age vs Income colored by ChurnStatus\")"
   ]
  },
  {
   "cell_type": "markdown",
   "id": "e7d2dda0",
   "metadata": {},
   "source": [
    "This plot represents how income is distributed for the different ages of the customers and which of them have churned or stayed."
   ]
  },
  {
   "cell_type": "markdown",
   "id": "251d6eff",
   "metadata": {},
   "source": [
    "### Tenure vs ChurnStatus"
   ]
  },
  {
   "cell_type": "code",
   "execution_count": null,
   "id": "a0f74ceb",
   "metadata": {},
   "outputs": [],
   "source": [
    "sns.boxplot(x='ChurnStatus', y='Tenure', data=data)\n",
    "plt.title(f\"Tenure vs ChurnStatus boxplot\")"
   ]
  },
  {
   "cell_type": "markdown",
   "id": "3ace4d10",
   "metadata": {},
   "source": [
    "The plot shows how customers with higher income tend to stay, while low income customers are more likely to churn."
   ]
  },
  {
   "cell_type": "markdown",
   "id": "2b9c3bef",
   "metadata": {},
   "source": [
    "### ProductType vs ChurnStatus"
   ]
  },
  {
   "cell_type": "code",
   "execution_count": null,
   "id": "ea4f6f56",
   "metadata": {},
   "outputs": [],
   "source": [
    "sns.countplot(x='ProductType', hue='ChurnStatus', data=data)\n",
    "plt.title(\"ProductType vs ChurnStatus\")"
   ]
  },
  {
   "cell_type": "markdown",
   "id": "43bec55b",
   "metadata": {},
   "source": [
    "This plot compares churn status across the two product types and shows that the product type has no influence on whether a customer churns or stays."
   ]
  },
  {
   "cell_type": "markdown",
   "id": "3d7a89d2",
   "metadata": {},
   "source": [
    "### Gender vs ChurnStatus"
   ]
  },
  {
   "cell_type": "code",
   "execution_count": null,
   "id": "8cdb2e28",
   "metadata": {},
   "outputs": [],
   "source": [
    "sns.countplot(hue='Gender',x='ChurnStatus', data=data)\n",
    "plt.title(\"Gender vs ChurnStatus\")"
   ]
  },
  {
   "cell_type": "markdown",
   "id": "b89f4cb3",
   "metadata": {},
   "source": [
    "The plot shows the relationship between a customer's gender and whether they churn or not. It's visible that there is no relationship between the two.  "
   ]
  },
  {
   "cell_type": "markdown",
   "id": "27bac248",
   "metadata": {},
   "source": [
    "## Step 7:  Ending Remarks\n",
    "\n",
    "- The dataset was successfully cleaned and all missing values were handled.\n",
    "- Outliers were checked for each feature and were detected in *Income*, *Age*, and *SupportCalls*.\n",
    "- **Tenure** has the strongest correlation and affect on whether a customers churns or stays. \n",
    "    - Customers who stay for the first two years, do not churn.\n",
    "- **Income** also has an influence on the likelihood of churning.\n",
    "    - Customers who make more than 50k do not churn.\n",
    "- **Gender**, **ProductType** and **Age** have little effect on churn.\n",
    "- These visualizations, statistics and insights will help us build a good predictive model in the future."
   ]
  }
 ],
 "metadata": {
  "kernelspec": {
   "display_name": ".venv",
   "language": "python",
   "name": "python3"
  },
  "language_info": {
   "codemirror_mode": {
    "name": "ipython",
    "version": 3
   },
   "file_extension": ".py",
   "mimetype": "text/x-python",
   "name": "python",
   "nbconvert_exporter": "python",
   "pygments_lexer": "ipython3",
   "version": "3.13.3"
  }
 },
 "nbformat": 4,
 "nbformat_minor": 5
}
